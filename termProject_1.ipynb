{
  "cells": [
    {
      "cell_type": "markdown",
      "metadata": {
        "id": "view-in-github",
        "colab_type": "text"
      },
      "source": [
        "<a href=\"https://colab.research.google.com/github/J1-coding/NYC_taxi_trip/blob/main/termProject_1.ipynb\" target=\"_parent\"><img src=\"https://colab.research.google.com/assets/colab-badge.svg\" alt=\"Open In Colab\"/></a>"
      ]
    },
    {
      "cell_type": "markdown",
      "metadata": {
        "id": "ef7f6c49"
      },
      "source": [
        "# New York Yellow Texi Data in Febrary 2022\n",
        "=================================================================\n",
        "## DataScience Term Project"
      ],
      "id": "ef7f6c49"
    },
    {
      "cell_type": "markdown",
      "metadata": {
        "id": "8ee6fa20"
      },
      "source": [
        "## 1) Source and explanation on the dataset (texts)"
      ],
      "id": "8ee6fa20"
    },
    {
      "cell_type": "markdown",
      "metadata": {
        "id": "d20220e8"
      },
      "source": [
        "The yellow texi records include fields capturing pick-up and drop-off dates/times, pick-up and drop-off locations, trip distances, itemized fares, rate types, payment types, and driver-reported passenger counts. \n",
        "The data used in the attached datasets were collected and provided to the NYC Taxi by technology providers authorized under the Taxicab Passenger Enhancement Programs(TPEP/LPEP). \n",
        "The trip data was not created by the TLC, and TLC makes no representations as to the accuracy of these data.\n",
        "\n",
        "+ In this dataset, we are considering only the Yellow Taxi Data for the month of Febrary 2022.<br><br>\n",
        "+ This dataset can be downloaded from the url below. (2022_February_Yellow Taxi Trip Records.CSV)<br>\n",
        "    https://www1.nyc.gov/site/tlc/about/tlc-trip-record-data.page"
      ],
      "id": "d20220e8"
    },
    {
      "cell_type": "markdown",
      "metadata": {
        "id": "a8b0b70e"
      },
      "source": [
        "## 2) Objective of your analysis <br>  (texts; what you want to get by analyzing this dataset)"
      ],
      "id": "a8b0b70e"
    },
    {
      "cell_type": "markdown",
      "metadata": {
        "id": "e5094c86"
      },
      "source": [
        "<u>Providing practical analysis for taxi drivers</u> is the main objective of our data set. <br>Since customer’s taxi demand forecasts are only predictable based on accumulated data, these analyses are very useful for taxi drivers. Based on our analysis, taxi drivers can immediately know where there are many customers at a specific time zone.<br><br>\n",
        "By analyzing a dataset of approximately 3 million rows, we can see which places are most in customer demand at certain times. Also, you can see which regions have the highest customer demand, not only by time zone but also by day of the week.\n",
        "<br><br>\n",
        "Furthermore, with these data, we're going to come up with three more interesting analyses.<br><br>\n",
        "<u>The first is to analyze the section and time zone where the most tips come out.</u> Tip is an important source of income for New York taxi drivers.  So we're going to analyze the sections and time zones that have the most tips.<br><br>\n",
        "<u>The second is the trend change analysis in New York City.</u> Based on the last 10 years of data tracking the route of taxis, we can analyze the trend of changing hot places for New Yorkers by organizing sections with high congestion and frequency by year.<br><br>\n",
        "<u>The third is the trend analysis of destinations by number of passengers.</u> Dataset contains the number of passengers in the taxi. When you take a taxi alone or in groups, the origin and destination can usually have different characteristics. For example, areas where a lot of group guests get on or off may be areas where people are more likely to gather, such as parties, concerts, tourist attractions, and transportation centers. The correlation between these passengers and their location will be shown in the analysis.\n"
      ],
      "id": "e5094c86"
    },
    {
      "cell_type": "markdown",
      "metadata": {
        "id": "6e016fc7"
      },
      "source": [
        "## 3) Description on the dataset (statistics, tables, plots, missing values, outliers, ... etc) Make it look nice and readable.\n",
        "\n",
        "### Attributes\n",
        "|column_name|description|\n",
        "|-----------|:-----------|\n",
        "|VendorID|A code indicating the TPEP provider that provided the record. <br>1 : Creative Mobile Technologies <br>2 : VeriFone Inc.|\n",
        "|tpep_pickup_datetime|The date and time when the meter was engaged.|\n",
        "|tpep_dropoff_datetime|The date and time when the meter was disengaged.|\n",
        "|passenger_count|The number of passengers in the vehicle. This is a driver-entered value.|\n",
        "|trip_distance|The elapsed trip distance in miles reported by the taximeter.|\n",
        "|RatecodeID|The final rate code in effect at the end of the trip. <br>1 : Standard rate <br>2 : JFK <br>3 : Newark <br>4 : Nassau or Westchester <br>5 : Negotiated fare <br>6 : Group ride|\n",
        "|store_and_fwd_flag|This flag indicates whether the trip record was held in vehicle memory before sending to the vendor, aka “store and forward,” because the vehicle did not have a connection to the server.  <br>Y : store and forward trip <br>N : not a store and forward trip|\n",
        "|PULocationID|TLC Taxi Zone in which the taximeter was engaged.|\n",
        "|DOLocationID|TLC Taxi Zone in which the taximeter was disengaged.|\n",
        "|payment_type|A numeric code signifying how the passenger paid for the trip. <br>1 : Credit card <br>2 : Cash <br>3 : No charge <br>4 : Dispute <br>5 : Unknown <br>6 : Voided trip|\n",
        "|fare_amount|The time-and-distance fare calculated by the meter.|\n",
        "|extra|Miscellaneous extras and surcharges. Currently, this only includes. the 0.50 dollar and 1 dollar rush hour and overnight charges.|\n",
        "|mta_tax|0.50 MTA tax that is automatically triggered based on the metered rate in use.|\n",
        "|tip_amount|Tip amount – This field is automatically populated for credit card tips.Cash tips are not included.|\n",
        "|tolls_amount|Total amount of all tolls paid in trip.|\n",
        "|improvement_surcharge|0.30 improvement surcharge assessed trips at the flag drop. the improvement surcharge began being levied in 2015.|\n",
        "|total_amount|The total amount charged to passengers. Does not include cash tips.|\n",
        "|congestion_surcharge|It represents the additional cost of New York traffic congestion.|"
      ],
      "id": "6e016fc7"
    },
    {
      "cell_type": "code",
      "execution_count": null,
      "metadata": {
        "colab": {
          "base_uri": "https://localhost:8080/"
        },
        "id": "s7oIhV2MQOCC",
        "outputId": "aad08acb-abd1-43be-d409-3dc5686b47ed"
      },
      "outputs": [
        {
          "output_type": "stream",
          "name": "stdout",
          "text": [
            "Drive already mounted at /content/drive; to attempt to forcibly remount, call drive.mount(\"/content/drive\", force_remount=True).\n"
          ]
        }
      ],
      "source": [
        "from google.colab import drive\n",
        "drive.mount('/content/drive')"
      ],
      "id": "s7oIhV2MQOCC"
    },
    {
      "cell_type": "code",
      "execution_count": null,
      "metadata": {
        "id": "5c80f2cf"
      },
      "outputs": [],
      "source": [
        "#pandas and numpy for data manipulation(handling)\n",
        "import numpy as np\n",
        "import pandas as pd\n",
        "import matplotlib.pyplot as plt\n",
        "import seaborn as sns\n",
        "from numpy import inf"
      ],
      "id": "5c80f2cf"
    },
    {
      "cell_type": "code",
      "execution_count": null,
      "metadata": {
        "id": "WhRl8UIaJjr9"
      },
      "outputs": [],
      "source": [
        "df = pd.read_parquet('/content/drive/MyDrive/Colab Notebooks/yellow_tripdata_2022-02.parquet')"
      ],
      "id": "WhRl8UIaJjr9"
    },
    {
      "cell_type": "code",
      "execution_count": null,
      "metadata": {
        "colab": {
          "base_uri": "https://localhost:8080/",
          "height": 268
        },
        "id": "XpIb1LyoKBOf",
        "outputId": "48542d21-0099-4f3a-af30-5662d620a490"
      },
      "outputs": [
        {
          "output_type": "execute_result",
          "data": {
            "text/plain": [
              "         VendorID tpep_pickup_datetime tpep_dropoff_datetime  passenger_count  \\\n",
              "2979426         2  2022-02-28 23:50:00   2022-03-01 00:06:00              NaN   \n",
              "2979427         2  2022-02-28 23:06:57   2022-02-28 23:19:12              NaN   \n",
              "2979428         2  2022-02-28 23:48:13   2022-03-01 00:03:33              NaN   \n",
              "2979429         2  2022-02-28 23:56:41   2022-03-01 00:04:57              NaN   \n",
              "2979430         2  2022-02-28 23:04:00   2022-02-28 23:10:00              NaN   \n",
              "\n",
              "         trip_distance  RatecodeID store_and_fwd_flag  PULocationID  \\\n",
              "2979426           3.40         NaN               None           163   \n",
              "2979427           3.48         NaN               None           141   \n",
              "2979428           3.05         NaN               None           161   \n",
              "2979429           2.62         NaN               None           141   \n",
              "2979430           1.41         NaN               None           237   \n",
              "\n",
              "         DOLocationID  payment_type  fare_amount  extra  mta_tax  tip_amount  \\\n",
              "2979426           193             0        14.37    0.0      0.5        0.00   \n",
              "2979427             4             0        14.51    0.0      0.5        2.00   \n",
              "2979428           151             0        14.38    0.0      0.5        3.81   \n",
              "2979429           226             0        12.53    0.0      0.5        1.71   \n",
              "2979430           142             0         8.80    0.0      0.5        2.57   \n",
              "\n",
              "         tolls_amount  improvement_surcharge  total_amount  \\\n",
              "2979426           0.0                    0.3         17.67   \n",
              "2979427           0.0                    0.3         19.81   \n",
              "2979428           0.0                    0.3         21.49   \n",
              "2979429           0.0                    0.3         17.54   \n",
              "2979430           0.0                    0.3         14.67   \n",
              "\n",
              "         congestion_surcharge  airport_fee  \n",
              "2979426                   NaN          NaN  \n",
              "2979427                   NaN          NaN  \n",
              "2979428                   NaN          NaN  \n",
              "2979429                   NaN          NaN  \n",
              "2979430                   NaN          NaN  "
            ],
            "text/html": [
              "\n",
              "  <div id=\"df-2da2059a-2cf9-4f05-8bcc-72eb5d54551f\">\n",
              "    <div class=\"colab-df-container\">\n",
              "      <div>\n",
              "<style scoped>\n",
              "    .dataframe tbody tr th:only-of-type {\n",
              "        vertical-align: middle;\n",
              "    }\n",
              "\n",
              "    .dataframe tbody tr th {\n",
              "        vertical-align: top;\n",
              "    }\n",
              "\n",
              "    .dataframe thead th {\n",
              "        text-align: right;\n",
              "    }\n",
              "</style>\n",
              "<table border=\"1\" class=\"dataframe\">\n",
              "  <thead>\n",
              "    <tr style=\"text-align: right;\">\n",
              "      <th></th>\n",
              "      <th>VendorID</th>\n",
              "      <th>tpep_pickup_datetime</th>\n",
              "      <th>tpep_dropoff_datetime</th>\n",
              "      <th>passenger_count</th>\n",
              "      <th>trip_distance</th>\n",
              "      <th>RatecodeID</th>\n",
              "      <th>store_and_fwd_flag</th>\n",
              "      <th>PULocationID</th>\n",
              "      <th>DOLocationID</th>\n",
              "      <th>payment_type</th>\n",
              "      <th>fare_amount</th>\n",
              "      <th>extra</th>\n",
              "      <th>mta_tax</th>\n",
              "      <th>tip_amount</th>\n",
              "      <th>tolls_amount</th>\n",
              "      <th>improvement_surcharge</th>\n",
              "      <th>total_amount</th>\n",
              "      <th>congestion_surcharge</th>\n",
              "      <th>airport_fee</th>\n",
              "    </tr>\n",
              "  </thead>\n",
              "  <tbody>\n",
              "    <tr>\n",
              "      <th>2979426</th>\n",
              "      <td>2</td>\n",
              "      <td>2022-02-28 23:50:00</td>\n",
              "      <td>2022-03-01 00:06:00</td>\n",
              "      <td>NaN</td>\n",
              "      <td>3.40</td>\n",
              "      <td>NaN</td>\n",
              "      <td>None</td>\n",
              "      <td>163</td>\n",
              "      <td>193</td>\n",
              "      <td>0</td>\n",
              "      <td>14.37</td>\n",
              "      <td>0.0</td>\n",
              "      <td>0.5</td>\n",
              "      <td>0.00</td>\n",
              "      <td>0.0</td>\n",
              "      <td>0.3</td>\n",
              "      <td>17.67</td>\n",
              "      <td>NaN</td>\n",
              "      <td>NaN</td>\n",
              "    </tr>\n",
              "    <tr>\n",
              "      <th>2979427</th>\n",
              "      <td>2</td>\n",
              "      <td>2022-02-28 23:06:57</td>\n",
              "      <td>2022-02-28 23:19:12</td>\n",
              "      <td>NaN</td>\n",
              "      <td>3.48</td>\n",
              "      <td>NaN</td>\n",
              "      <td>None</td>\n",
              "      <td>141</td>\n",
              "      <td>4</td>\n",
              "      <td>0</td>\n",
              "      <td>14.51</td>\n",
              "      <td>0.0</td>\n",
              "      <td>0.5</td>\n",
              "      <td>2.00</td>\n",
              "      <td>0.0</td>\n",
              "      <td>0.3</td>\n",
              "      <td>19.81</td>\n",
              "      <td>NaN</td>\n",
              "      <td>NaN</td>\n",
              "    </tr>\n",
              "    <tr>\n",
              "      <th>2979428</th>\n",
              "      <td>2</td>\n",
              "      <td>2022-02-28 23:48:13</td>\n",
              "      <td>2022-03-01 00:03:33</td>\n",
              "      <td>NaN</td>\n",
              "      <td>3.05</td>\n",
              "      <td>NaN</td>\n",
              "      <td>None</td>\n",
              "      <td>161</td>\n",
              "      <td>151</td>\n",
              "      <td>0</td>\n",
              "      <td>14.38</td>\n",
              "      <td>0.0</td>\n",
              "      <td>0.5</td>\n",
              "      <td>3.81</td>\n",
              "      <td>0.0</td>\n",
              "      <td>0.3</td>\n",
              "      <td>21.49</td>\n",
              "      <td>NaN</td>\n",
              "      <td>NaN</td>\n",
              "    </tr>\n",
              "    <tr>\n",
              "      <th>2979429</th>\n",
              "      <td>2</td>\n",
              "      <td>2022-02-28 23:56:41</td>\n",
              "      <td>2022-03-01 00:04:57</td>\n",
              "      <td>NaN</td>\n",
              "      <td>2.62</td>\n",
              "      <td>NaN</td>\n",
              "      <td>None</td>\n",
              "      <td>141</td>\n",
              "      <td>226</td>\n",
              "      <td>0</td>\n",
              "      <td>12.53</td>\n",
              "      <td>0.0</td>\n",
              "      <td>0.5</td>\n",
              "      <td>1.71</td>\n",
              "      <td>0.0</td>\n",
              "      <td>0.3</td>\n",
              "      <td>17.54</td>\n",
              "      <td>NaN</td>\n",
              "      <td>NaN</td>\n",
              "    </tr>\n",
              "    <tr>\n",
              "      <th>2979430</th>\n",
              "      <td>2</td>\n",
              "      <td>2022-02-28 23:04:00</td>\n",
              "      <td>2022-02-28 23:10:00</td>\n",
              "      <td>NaN</td>\n",
              "      <td>1.41</td>\n",
              "      <td>NaN</td>\n",
              "      <td>None</td>\n",
              "      <td>237</td>\n",
              "      <td>142</td>\n",
              "      <td>0</td>\n",
              "      <td>8.80</td>\n",
              "      <td>0.0</td>\n",
              "      <td>0.5</td>\n",
              "      <td>2.57</td>\n",
              "      <td>0.0</td>\n",
              "      <td>0.3</td>\n",
              "      <td>14.67</td>\n",
              "      <td>NaN</td>\n",
              "      <td>NaN</td>\n",
              "    </tr>\n",
              "  </tbody>\n",
              "</table>\n",
              "</div>\n",
              "      <button class=\"colab-df-convert\" onclick=\"convertToInteractive('df-2da2059a-2cf9-4f05-8bcc-72eb5d54551f')\"\n",
              "              title=\"Convert this dataframe to an interactive table.\"\n",
              "              style=\"display:none;\">\n",
              "        \n",
              "  <svg xmlns=\"http://www.w3.org/2000/svg\" height=\"24px\"viewBox=\"0 0 24 24\"\n",
              "       width=\"24px\">\n",
              "    <path d=\"M0 0h24v24H0V0z\" fill=\"none\"/>\n",
              "    <path d=\"M18.56 5.44l.94 2.06.94-2.06 2.06-.94-2.06-.94-.94-2.06-.94 2.06-2.06.94zm-11 1L8.5 8.5l.94-2.06 2.06-.94-2.06-.94L8.5 2.5l-.94 2.06-2.06.94zm10 10l.94 2.06.94-2.06 2.06-.94-2.06-.94-.94-2.06-.94 2.06-2.06.94z\"/><path d=\"M17.41 7.96l-1.37-1.37c-.4-.4-.92-.59-1.43-.59-.52 0-1.04.2-1.43.59L10.3 9.45l-7.72 7.72c-.78.78-.78 2.05 0 2.83L4 21.41c.39.39.9.59 1.41.59.51 0 1.02-.2 1.41-.59l7.78-7.78 2.81-2.81c.8-.78.8-2.07 0-2.86zM5.41 20L4 18.59l7.72-7.72 1.47 1.35L5.41 20z\"/>\n",
              "  </svg>\n",
              "      </button>\n",
              "      \n",
              "  <style>\n",
              "    .colab-df-container {\n",
              "      display:flex;\n",
              "      flex-wrap:wrap;\n",
              "      gap: 12px;\n",
              "    }\n",
              "\n",
              "    .colab-df-convert {\n",
              "      background-color: #E8F0FE;\n",
              "      border: none;\n",
              "      border-radius: 50%;\n",
              "      cursor: pointer;\n",
              "      display: none;\n",
              "      fill: #1967D2;\n",
              "      height: 32px;\n",
              "      padding: 0 0 0 0;\n",
              "      width: 32px;\n",
              "    }\n",
              "\n",
              "    .colab-df-convert:hover {\n",
              "      background-color: #E2EBFA;\n",
              "      box-shadow: 0px 1px 2px rgba(60, 64, 67, 0.3), 0px 1px 3px 1px rgba(60, 64, 67, 0.15);\n",
              "      fill: #174EA6;\n",
              "    }\n",
              "\n",
              "    [theme=dark] .colab-df-convert {\n",
              "      background-color: #3B4455;\n",
              "      fill: #D2E3FC;\n",
              "    }\n",
              "\n",
              "    [theme=dark] .colab-df-convert:hover {\n",
              "      background-color: #434B5C;\n",
              "      box-shadow: 0px 1px 3px 1px rgba(0, 0, 0, 0.15);\n",
              "      filter: drop-shadow(0px 1px 2px rgba(0, 0, 0, 0.3));\n",
              "      fill: #FFFFFF;\n",
              "    }\n",
              "  </style>\n",
              "\n",
              "      <script>\n",
              "        const buttonEl =\n",
              "          document.querySelector('#df-2da2059a-2cf9-4f05-8bcc-72eb5d54551f button.colab-df-convert');\n",
              "        buttonEl.style.display =\n",
              "          google.colab.kernel.accessAllowed ? 'block' : 'none';\n",
              "\n",
              "        async function convertToInteractive(key) {\n",
              "          const element = document.querySelector('#df-2da2059a-2cf9-4f05-8bcc-72eb5d54551f');\n",
              "          const dataTable =\n",
              "            await google.colab.kernel.invokeFunction('convertToInteractive',\n",
              "                                                     [key], {});\n",
              "          if (!dataTable) return;\n",
              "\n",
              "          const docLinkHtml = 'Like what you see? Visit the ' +\n",
              "            '<a target=\"_blank\" href=https://colab.research.google.com/notebooks/data_table.ipynb>data table notebook</a>'\n",
              "            + ' to learn more about interactive tables.';\n",
              "          element.innerHTML = '';\n",
              "          dataTable['output_type'] = 'display_data';\n",
              "          await google.colab.output.renderOutput(dataTable, element);\n",
              "          const docLink = document.createElement('div');\n",
              "          docLink.innerHTML = docLinkHtml;\n",
              "          element.appendChild(docLink);\n",
              "        }\n",
              "      </script>\n",
              "    </div>\n",
              "  </div>\n",
              "  "
            ]
          },
          "metadata": {},
          "execution_count": 5
        }
      ],
      "source": [
        "df.tail(5)"
      ],
      "id": "XpIb1LyoKBOf"
    },
    {
      "cell_type": "code",
      "execution_count": null,
      "metadata": {
        "id": "9d3aa44f"
      },
      "outputs": [],
      "source": [
        "#Read in the data\n",
        "#data = pd.read_csv('/content/drive/MyDrive/Colab Notebooks/yellow_tripdata_2022-02.csv')"
      ],
      "id": "9d3aa44f"
    },
    {
      "cell_type": "code",
      "execution_count": null,
      "metadata": {
        "colab": {
          "base_uri": "https://localhost:8080/",
          "height": 268
        },
        "id": "9cdecae7",
        "outputId": "3a7401ff-7613-4ed9-e3c3-4da2e0c24ef3"
      },
      "outputs": [
        {
          "output_type": "execute_result",
          "data": {
            "text/plain": [
              "   VendorID tpep_pickup_datetime tpep_dropoff_datetime  passenger_count  \\\n",
              "0         1  2022-02-01 00:06:58   2022-02-01 00:19:24              1.0   \n",
              "1         1  2022-02-01 00:38:22   2022-02-01 00:55:55              1.0   \n",
              "2         1  2022-02-01 00:03:20   2022-02-01 00:26:59              1.0   \n",
              "3         2  2022-02-01 00:08:00   2022-02-01 00:28:05              1.0   \n",
              "4         2  2022-02-01 00:06:48   2022-02-01 00:33:07              1.0   \n",
              "\n",
              "   trip_distance  RatecodeID store_and_fwd_flag  PULocationID  DOLocationID  \\\n",
              "0           5.40         1.0                  N           138           252   \n",
              "1           6.40         1.0                  N           138            41   \n",
              "2          12.50         1.0                  N           138           200   \n",
              "3           9.88         1.0                  N           239           200   \n",
              "4          12.16         1.0                  N           138           125   \n",
              "\n",
              "   payment_type  fare_amount  extra  mta_tax  tip_amount  tolls_amount  \\\n",
              "0             1         17.0   1.75      0.5        3.90          0.00   \n",
              "1             2         21.0   1.75      0.5        0.00          6.55   \n",
              "2             2         35.5   1.75      0.5        0.00          6.55   \n",
              "3             2         28.0   0.50      0.5        0.00          3.00   \n",
              "4             1         35.5   0.50      0.5        8.11          0.00   \n",
              "\n",
              "   improvement_surcharge  total_amount  congestion_surcharge  airport_fee  \n",
              "0                    0.3         23.45                   0.0         1.25  \n",
              "1                    0.3         30.10                   0.0         1.25  \n",
              "2                    0.3         44.60                   0.0         1.25  \n",
              "3                    0.3         34.80                   2.5         0.00  \n",
              "4                    0.3         48.66                   2.5         1.25  "
            ],
            "text/html": [
              "\n",
              "  <div id=\"df-9aaceafc-4480-45bd-a7f1-301003c95df5\">\n",
              "    <div class=\"colab-df-container\">\n",
              "      <div>\n",
              "<style scoped>\n",
              "    .dataframe tbody tr th:only-of-type {\n",
              "        vertical-align: middle;\n",
              "    }\n",
              "\n",
              "    .dataframe tbody tr th {\n",
              "        vertical-align: top;\n",
              "    }\n",
              "\n",
              "    .dataframe thead th {\n",
              "        text-align: right;\n",
              "    }\n",
              "</style>\n",
              "<table border=\"1\" class=\"dataframe\">\n",
              "  <thead>\n",
              "    <tr style=\"text-align: right;\">\n",
              "      <th></th>\n",
              "      <th>VendorID</th>\n",
              "      <th>tpep_pickup_datetime</th>\n",
              "      <th>tpep_dropoff_datetime</th>\n",
              "      <th>passenger_count</th>\n",
              "      <th>trip_distance</th>\n",
              "      <th>RatecodeID</th>\n",
              "      <th>store_and_fwd_flag</th>\n",
              "      <th>PULocationID</th>\n",
              "      <th>DOLocationID</th>\n",
              "      <th>payment_type</th>\n",
              "      <th>fare_amount</th>\n",
              "      <th>extra</th>\n",
              "      <th>mta_tax</th>\n",
              "      <th>tip_amount</th>\n",
              "      <th>tolls_amount</th>\n",
              "      <th>improvement_surcharge</th>\n",
              "      <th>total_amount</th>\n",
              "      <th>congestion_surcharge</th>\n",
              "      <th>airport_fee</th>\n",
              "    </tr>\n",
              "  </thead>\n",
              "  <tbody>\n",
              "    <tr>\n",
              "      <th>0</th>\n",
              "      <td>1</td>\n",
              "      <td>2022-02-01 00:06:58</td>\n",
              "      <td>2022-02-01 00:19:24</td>\n",
              "      <td>1.0</td>\n",
              "      <td>5.40</td>\n",
              "      <td>1.0</td>\n",
              "      <td>N</td>\n",
              "      <td>138</td>\n",
              "      <td>252</td>\n",
              "      <td>1</td>\n",
              "      <td>17.0</td>\n",
              "      <td>1.75</td>\n",
              "      <td>0.5</td>\n",
              "      <td>3.90</td>\n",
              "      <td>0.00</td>\n",
              "      <td>0.3</td>\n",
              "      <td>23.45</td>\n",
              "      <td>0.0</td>\n",
              "      <td>1.25</td>\n",
              "    </tr>\n",
              "    <tr>\n",
              "      <th>1</th>\n",
              "      <td>1</td>\n",
              "      <td>2022-02-01 00:38:22</td>\n",
              "      <td>2022-02-01 00:55:55</td>\n",
              "      <td>1.0</td>\n",
              "      <td>6.40</td>\n",
              "      <td>1.0</td>\n",
              "      <td>N</td>\n",
              "      <td>138</td>\n",
              "      <td>41</td>\n",
              "      <td>2</td>\n",
              "      <td>21.0</td>\n",
              "      <td>1.75</td>\n",
              "      <td>0.5</td>\n",
              "      <td>0.00</td>\n",
              "      <td>6.55</td>\n",
              "      <td>0.3</td>\n",
              "      <td>30.10</td>\n",
              "      <td>0.0</td>\n",
              "      <td>1.25</td>\n",
              "    </tr>\n",
              "    <tr>\n",
              "      <th>2</th>\n",
              "      <td>1</td>\n",
              "      <td>2022-02-01 00:03:20</td>\n",
              "      <td>2022-02-01 00:26:59</td>\n",
              "      <td>1.0</td>\n",
              "      <td>12.50</td>\n",
              "      <td>1.0</td>\n",
              "      <td>N</td>\n",
              "      <td>138</td>\n",
              "      <td>200</td>\n",
              "      <td>2</td>\n",
              "      <td>35.5</td>\n",
              "      <td>1.75</td>\n",
              "      <td>0.5</td>\n",
              "      <td>0.00</td>\n",
              "      <td>6.55</td>\n",
              "      <td>0.3</td>\n",
              "      <td>44.60</td>\n",
              "      <td>0.0</td>\n",
              "      <td>1.25</td>\n",
              "    </tr>\n",
              "    <tr>\n",
              "      <th>3</th>\n",
              "      <td>2</td>\n",
              "      <td>2022-02-01 00:08:00</td>\n",
              "      <td>2022-02-01 00:28:05</td>\n",
              "      <td>1.0</td>\n",
              "      <td>9.88</td>\n",
              "      <td>1.0</td>\n",
              "      <td>N</td>\n",
              "      <td>239</td>\n",
              "      <td>200</td>\n",
              "      <td>2</td>\n",
              "      <td>28.0</td>\n",
              "      <td>0.50</td>\n",
              "      <td>0.5</td>\n",
              "      <td>0.00</td>\n",
              "      <td>3.00</td>\n",
              "      <td>0.3</td>\n",
              "      <td>34.80</td>\n",
              "      <td>2.5</td>\n",
              "      <td>0.00</td>\n",
              "    </tr>\n",
              "    <tr>\n",
              "      <th>4</th>\n",
              "      <td>2</td>\n",
              "      <td>2022-02-01 00:06:48</td>\n",
              "      <td>2022-02-01 00:33:07</td>\n",
              "      <td>1.0</td>\n",
              "      <td>12.16</td>\n",
              "      <td>1.0</td>\n",
              "      <td>N</td>\n",
              "      <td>138</td>\n",
              "      <td>125</td>\n",
              "      <td>1</td>\n",
              "      <td>35.5</td>\n",
              "      <td>0.50</td>\n",
              "      <td>0.5</td>\n",
              "      <td>8.11</td>\n",
              "      <td>0.00</td>\n",
              "      <td>0.3</td>\n",
              "      <td>48.66</td>\n",
              "      <td>2.5</td>\n",
              "      <td>1.25</td>\n",
              "    </tr>\n",
              "  </tbody>\n",
              "</table>\n",
              "</div>\n",
              "      <button class=\"colab-df-convert\" onclick=\"convertToInteractive('df-9aaceafc-4480-45bd-a7f1-301003c95df5')\"\n",
              "              title=\"Convert this dataframe to an interactive table.\"\n",
              "              style=\"display:none;\">\n",
              "        \n",
              "  <svg xmlns=\"http://www.w3.org/2000/svg\" height=\"24px\"viewBox=\"0 0 24 24\"\n",
              "       width=\"24px\">\n",
              "    <path d=\"M0 0h24v24H0V0z\" fill=\"none\"/>\n",
              "    <path d=\"M18.56 5.44l.94 2.06.94-2.06 2.06-.94-2.06-.94-.94-2.06-.94 2.06-2.06.94zm-11 1L8.5 8.5l.94-2.06 2.06-.94-2.06-.94L8.5 2.5l-.94 2.06-2.06.94zm10 10l.94 2.06.94-2.06 2.06-.94-2.06-.94-.94-2.06-.94 2.06-2.06.94z\"/><path d=\"M17.41 7.96l-1.37-1.37c-.4-.4-.92-.59-1.43-.59-.52 0-1.04.2-1.43.59L10.3 9.45l-7.72 7.72c-.78.78-.78 2.05 0 2.83L4 21.41c.39.39.9.59 1.41.59.51 0 1.02-.2 1.41-.59l7.78-7.78 2.81-2.81c.8-.78.8-2.07 0-2.86zM5.41 20L4 18.59l7.72-7.72 1.47 1.35L5.41 20z\"/>\n",
              "  </svg>\n",
              "      </button>\n",
              "      \n",
              "  <style>\n",
              "    .colab-df-container {\n",
              "      display:flex;\n",
              "      flex-wrap:wrap;\n",
              "      gap: 12px;\n",
              "    }\n",
              "\n",
              "    .colab-df-convert {\n",
              "      background-color: #E8F0FE;\n",
              "      border: none;\n",
              "      border-radius: 50%;\n",
              "      cursor: pointer;\n",
              "      display: none;\n",
              "      fill: #1967D2;\n",
              "      height: 32px;\n",
              "      padding: 0 0 0 0;\n",
              "      width: 32px;\n",
              "    }\n",
              "\n",
              "    .colab-df-convert:hover {\n",
              "      background-color: #E2EBFA;\n",
              "      box-shadow: 0px 1px 2px rgba(60, 64, 67, 0.3), 0px 1px 3px 1px rgba(60, 64, 67, 0.15);\n",
              "      fill: #174EA6;\n",
              "    }\n",
              "\n",
              "    [theme=dark] .colab-df-convert {\n",
              "      background-color: #3B4455;\n",
              "      fill: #D2E3FC;\n",
              "    }\n",
              "\n",
              "    [theme=dark] .colab-df-convert:hover {\n",
              "      background-color: #434B5C;\n",
              "      box-shadow: 0px 1px 3px 1px rgba(0, 0, 0, 0.15);\n",
              "      filter: drop-shadow(0px 1px 2px rgba(0, 0, 0, 0.3));\n",
              "      fill: #FFFFFF;\n",
              "    }\n",
              "  </style>\n",
              "\n",
              "      <script>\n",
              "        const buttonEl =\n",
              "          document.querySelector('#df-9aaceafc-4480-45bd-a7f1-301003c95df5 button.colab-df-convert');\n",
              "        buttonEl.style.display =\n",
              "          google.colab.kernel.accessAllowed ? 'block' : 'none';\n",
              "\n",
              "        async function convertToInteractive(key) {\n",
              "          const element = document.querySelector('#df-9aaceafc-4480-45bd-a7f1-301003c95df5');\n",
              "          const dataTable =\n",
              "            await google.colab.kernel.invokeFunction('convertToInteractive',\n",
              "                                                     [key], {});\n",
              "          if (!dataTable) return;\n",
              "\n",
              "          const docLinkHtml = 'Like what you see? Visit the ' +\n",
              "            '<a target=\"_blank\" href=https://colab.research.google.com/notebooks/data_table.ipynb>data table notebook</a>'\n",
              "            + ' to learn more about interactive tables.';\n",
              "          element.innerHTML = '';\n",
              "          dataTable['output_type'] = 'display_data';\n",
              "          await google.colab.output.renderOutput(dataTable, element);\n",
              "          const docLink = document.createElement('div');\n",
              "          docLink.innerHTML = docLinkHtml;\n",
              "          element.appendChild(docLink);\n",
              "        }\n",
              "      </script>\n",
              "    </div>\n",
              "  </div>\n",
              "  "
            ]
          },
          "metadata": {},
          "execution_count": 7
        }
      ],
      "source": [
        "#Show 5 above sample in the dataset\n",
        "df.head()"
      ],
      "id": "9cdecae7"
    },
    {
      "cell_type": "code",
      "execution_count": null,
      "metadata": {
        "colab": {
          "base_uri": "https://localhost:8080/",
          "height": 483
        },
        "id": "7nUaiBAUe4hg",
        "outputId": "2807e362-65a3-4a22-a379-7bb1246de900"
      },
      "outputs": [
        {
          "output_type": "execute_result",
          "data": {
            "text/plain": [
              "         VendorID tpep_pickup_datetime tpep_dropoff_datetime  passenger_count  \\\n",
              "0               1  2022-02-01 00:06:58   2022-02-01 00:19:24              1.0   \n",
              "1               1  2022-02-01 00:38:22   2022-02-01 00:55:55              1.0   \n",
              "2               1  2022-02-01 00:03:20   2022-02-01 00:26:59              1.0   \n",
              "3               2  2022-02-01 00:08:00   2022-02-01 00:28:05              1.0   \n",
              "4               2  2022-02-01 00:06:48   2022-02-01 00:33:07              1.0   \n",
              "...           ...                  ...                   ...              ...   \n",
              "2979426         2  2022-02-28 23:50:00   2022-03-01 00:06:00              NaN   \n",
              "2979427         2  2022-02-28 23:06:57   2022-02-28 23:19:12              NaN   \n",
              "2979428         2  2022-02-28 23:48:13   2022-03-01 00:03:33              NaN   \n",
              "2979429         2  2022-02-28 23:56:41   2022-03-01 00:04:57              NaN   \n",
              "2979430         2  2022-02-28 23:04:00   2022-02-28 23:10:00              NaN   \n",
              "\n",
              "         trip_distance  RatecodeID store_and_fwd_flag  PULocationID  \\\n",
              "0                 5.40         1.0                  N           138   \n",
              "1                 6.40         1.0                  N           138   \n",
              "2                12.50         1.0                  N           138   \n",
              "3                 9.88         1.0                  N           239   \n",
              "4                12.16         1.0                  N           138   \n",
              "...                ...         ...                ...           ...   \n",
              "2979426           3.40         NaN               None           163   \n",
              "2979427           3.48         NaN               None           141   \n",
              "2979428           3.05         NaN               None           161   \n",
              "2979429           2.62         NaN               None           141   \n",
              "2979430           1.41         NaN               None           237   \n",
              "\n",
              "         DOLocationID  payment_type  fare_amount  extra  mta_tax  tip_amount  \\\n",
              "0                 252             1        17.00   1.75      0.5        3.90   \n",
              "1                  41             2        21.00   1.75      0.5        0.00   \n",
              "2                 200             2        35.50   1.75      0.5        0.00   \n",
              "3                 200             2        28.00   0.50      0.5        0.00   \n",
              "4                 125             1        35.50   0.50      0.5        8.11   \n",
              "...               ...           ...          ...    ...      ...         ...   \n",
              "2979426           193             0        14.37   0.00      0.5        0.00   \n",
              "2979427             4             0        14.51   0.00      0.5        2.00   \n",
              "2979428           151             0        14.38   0.00      0.5        3.81   \n",
              "2979429           226             0        12.53   0.00      0.5        1.71   \n",
              "2979430           142             0         8.80   0.00      0.5        2.57   \n",
              "\n",
              "         tolls_amount  improvement_surcharge  total_amount  \\\n",
              "0                0.00                    0.3         23.45   \n",
              "1                6.55                    0.3         30.10   \n",
              "2                6.55                    0.3         44.60   \n",
              "3                3.00                    0.3         34.80   \n",
              "4                0.00                    0.3         48.66   \n",
              "...               ...                    ...           ...   \n",
              "2979426          0.00                    0.3         17.67   \n",
              "2979427          0.00                    0.3         19.81   \n",
              "2979428          0.00                    0.3         21.49   \n",
              "2979429          0.00                    0.3         17.54   \n",
              "2979430          0.00                    0.3         14.67   \n",
              "\n",
              "         congestion_surcharge  airport_fee  \n",
              "0                         0.0         1.25  \n",
              "1                         0.0         1.25  \n",
              "2                         0.0         1.25  \n",
              "3                         2.5         0.00  \n",
              "4                         2.5         1.25  \n",
              "...                       ...          ...  \n",
              "2979426                   NaN          NaN  \n",
              "2979427                   NaN          NaN  \n",
              "2979428                   NaN          NaN  \n",
              "2979429                   NaN          NaN  \n",
              "2979430                   NaN          NaN  \n",
              "\n",
              "[2979431 rows x 19 columns]"
            ],
            "text/html": [
              "\n",
              "  <div id=\"df-55a1581f-cdc1-4635-84ac-711b21fdf18b\">\n",
              "    <div class=\"colab-df-container\">\n",
              "      <div>\n",
              "<style scoped>\n",
              "    .dataframe tbody tr th:only-of-type {\n",
              "        vertical-align: middle;\n",
              "    }\n",
              "\n",
              "    .dataframe tbody tr th {\n",
              "        vertical-align: top;\n",
              "    }\n",
              "\n",
              "    .dataframe thead th {\n",
              "        text-align: right;\n",
              "    }\n",
              "</style>\n",
              "<table border=\"1\" class=\"dataframe\">\n",
              "  <thead>\n",
              "    <tr style=\"text-align: right;\">\n",
              "      <th></th>\n",
              "      <th>VendorID</th>\n",
              "      <th>tpep_pickup_datetime</th>\n",
              "      <th>tpep_dropoff_datetime</th>\n",
              "      <th>passenger_count</th>\n",
              "      <th>trip_distance</th>\n",
              "      <th>RatecodeID</th>\n",
              "      <th>store_and_fwd_flag</th>\n",
              "      <th>PULocationID</th>\n",
              "      <th>DOLocationID</th>\n",
              "      <th>payment_type</th>\n",
              "      <th>fare_amount</th>\n",
              "      <th>extra</th>\n",
              "      <th>mta_tax</th>\n",
              "      <th>tip_amount</th>\n",
              "      <th>tolls_amount</th>\n",
              "      <th>improvement_surcharge</th>\n",
              "      <th>total_amount</th>\n",
              "      <th>congestion_surcharge</th>\n",
              "      <th>airport_fee</th>\n",
              "    </tr>\n",
              "  </thead>\n",
              "  <tbody>\n",
              "    <tr>\n",
              "      <th>0</th>\n",
              "      <td>1</td>\n",
              "      <td>2022-02-01 00:06:58</td>\n",
              "      <td>2022-02-01 00:19:24</td>\n",
              "      <td>1.0</td>\n",
              "      <td>5.40</td>\n",
              "      <td>1.0</td>\n",
              "      <td>N</td>\n",
              "      <td>138</td>\n",
              "      <td>252</td>\n",
              "      <td>1</td>\n",
              "      <td>17.00</td>\n",
              "      <td>1.75</td>\n",
              "      <td>0.5</td>\n",
              "      <td>3.90</td>\n",
              "      <td>0.00</td>\n",
              "      <td>0.3</td>\n",
              "      <td>23.45</td>\n",
              "      <td>0.0</td>\n",
              "      <td>1.25</td>\n",
              "    </tr>\n",
              "    <tr>\n",
              "      <th>1</th>\n",
              "      <td>1</td>\n",
              "      <td>2022-02-01 00:38:22</td>\n",
              "      <td>2022-02-01 00:55:55</td>\n",
              "      <td>1.0</td>\n",
              "      <td>6.40</td>\n",
              "      <td>1.0</td>\n",
              "      <td>N</td>\n",
              "      <td>138</td>\n",
              "      <td>41</td>\n",
              "      <td>2</td>\n",
              "      <td>21.00</td>\n",
              "      <td>1.75</td>\n",
              "      <td>0.5</td>\n",
              "      <td>0.00</td>\n",
              "      <td>6.55</td>\n",
              "      <td>0.3</td>\n",
              "      <td>30.10</td>\n",
              "      <td>0.0</td>\n",
              "      <td>1.25</td>\n",
              "    </tr>\n",
              "    <tr>\n",
              "      <th>2</th>\n",
              "      <td>1</td>\n",
              "      <td>2022-02-01 00:03:20</td>\n",
              "      <td>2022-02-01 00:26:59</td>\n",
              "      <td>1.0</td>\n",
              "      <td>12.50</td>\n",
              "      <td>1.0</td>\n",
              "      <td>N</td>\n",
              "      <td>138</td>\n",
              "      <td>200</td>\n",
              "      <td>2</td>\n",
              "      <td>35.50</td>\n",
              "      <td>1.75</td>\n",
              "      <td>0.5</td>\n",
              "      <td>0.00</td>\n",
              "      <td>6.55</td>\n",
              "      <td>0.3</td>\n",
              "      <td>44.60</td>\n",
              "      <td>0.0</td>\n",
              "      <td>1.25</td>\n",
              "    </tr>\n",
              "    <tr>\n",
              "      <th>3</th>\n",
              "      <td>2</td>\n",
              "      <td>2022-02-01 00:08:00</td>\n",
              "      <td>2022-02-01 00:28:05</td>\n",
              "      <td>1.0</td>\n",
              "      <td>9.88</td>\n",
              "      <td>1.0</td>\n",
              "      <td>N</td>\n",
              "      <td>239</td>\n",
              "      <td>200</td>\n",
              "      <td>2</td>\n",
              "      <td>28.00</td>\n",
              "      <td>0.50</td>\n",
              "      <td>0.5</td>\n",
              "      <td>0.00</td>\n",
              "      <td>3.00</td>\n",
              "      <td>0.3</td>\n",
              "      <td>34.80</td>\n",
              "      <td>2.5</td>\n",
              "      <td>0.00</td>\n",
              "    </tr>\n",
              "    <tr>\n",
              "      <th>4</th>\n",
              "      <td>2</td>\n",
              "      <td>2022-02-01 00:06:48</td>\n",
              "      <td>2022-02-01 00:33:07</td>\n",
              "      <td>1.0</td>\n",
              "      <td>12.16</td>\n",
              "      <td>1.0</td>\n",
              "      <td>N</td>\n",
              "      <td>138</td>\n",
              "      <td>125</td>\n",
              "      <td>1</td>\n",
              "      <td>35.50</td>\n",
              "      <td>0.50</td>\n",
              "      <td>0.5</td>\n",
              "      <td>8.11</td>\n",
              "      <td>0.00</td>\n",
              "      <td>0.3</td>\n",
              "      <td>48.66</td>\n",
              "      <td>2.5</td>\n",
              "      <td>1.25</td>\n",
              "    </tr>\n",
              "    <tr>\n",
              "      <th>...</th>\n",
              "      <td>...</td>\n",
              "      <td>...</td>\n",
              "      <td>...</td>\n",
              "      <td>...</td>\n",
              "      <td>...</td>\n",
              "      <td>...</td>\n",
              "      <td>...</td>\n",
              "      <td>...</td>\n",
              "      <td>...</td>\n",
              "      <td>...</td>\n",
              "      <td>...</td>\n",
              "      <td>...</td>\n",
              "      <td>...</td>\n",
              "      <td>...</td>\n",
              "      <td>...</td>\n",
              "      <td>...</td>\n",
              "      <td>...</td>\n",
              "      <td>...</td>\n",
              "      <td>...</td>\n",
              "    </tr>\n",
              "    <tr>\n",
              "      <th>2979426</th>\n",
              "      <td>2</td>\n",
              "      <td>2022-02-28 23:50:00</td>\n",
              "      <td>2022-03-01 00:06:00</td>\n",
              "      <td>NaN</td>\n",
              "      <td>3.40</td>\n",
              "      <td>NaN</td>\n",
              "      <td>None</td>\n",
              "      <td>163</td>\n",
              "      <td>193</td>\n",
              "      <td>0</td>\n",
              "      <td>14.37</td>\n",
              "      <td>0.00</td>\n",
              "      <td>0.5</td>\n",
              "      <td>0.00</td>\n",
              "      <td>0.00</td>\n",
              "      <td>0.3</td>\n",
              "      <td>17.67</td>\n",
              "      <td>NaN</td>\n",
              "      <td>NaN</td>\n",
              "    </tr>\n",
              "    <tr>\n",
              "      <th>2979427</th>\n",
              "      <td>2</td>\n",
              "      <td>2022-02-28 23:06:57</td>\n",
              "      <td>2022-02-28 23:19:12</td>\n",
              "      <td>NaN</td>\n",
              "      <td>3.48</td>\n",
              "      <td>NaN</td>\n",
              "      <td>None</td>\n",
              "      <td>141</td>\n",
              "      <td>4</td>\n",
              "      <td>0</td>\n",
              "      <td>14.51</td>\n",
              "      <td>0.00</td>\n",
              "      <td>0.5</td>\n",
              "      <td>2.00</td>\n",
              "      <td>0.00</td>\n",
              "      <td>0.3</td>\n",
              "      <td>19.81</td>\n",
              "      <td>NaN</td>\n",
              "      <td>NaN</td>\n",
              "    </tr>\n",
              "    <tr>\n",
              "      <th>2979428</th>\n",
              "      <td>2</td>\n",
              "      <td>2022-02-28 23:48:13</td>\n",
              "      <td>2022-03-01 00:03:33</td>\n",
              "      <td>NaN</td>\n",
              "      <td>3.05</td>\n",
              "      <td>NaN</td>\n",
              "      <td>None</td>\n",
              "      <td>161</td>\n",
              "      <td>151</td>\n",
              "      <td>0</td>\n",
              "      <td>14.38</td>\n",
              "      <td>0.00</td>\n",
              "      <td>0.5</td>\n",
              "      <td>3.81</td>\n",
              "      <td>0.00</td>\n",
              "      <td>0.3</td>\n",
              "      <td>21.49</td>\n",
              "      <td>NaN</td>\n",
              "      <td>NaN</td>\n",
              "    </tr>\n",
              "    <tr>\n",
              "      <th>2979429</th>\n",
              "      <td>2</td>\n",
              "      <td>2022-02-28 23:56:41</td>\n",
              "      <td>2022-03-01 00:04:57</td>\n",
              "      <td>NaN</td>\n",
              "      <td>2.62</td>\n",
              "      <td>NaN</td>\n",
              "      <td>None</td>\n",
              "      <td>141</td>\n",
              "      <td>226</td>\n",
              "      <td>0</td>\n",
              "      <td>12.53</td>\n",
              "      <td>0.00</td>\n",
              "      <td>0.5</td>\n",
              "      <td>1.71</td>\n",
              "      <td>0.00</td>\n",
              "      <td>0.3</td>\n",
              "      <td>17.54</td>\n",
              "      <td>NaN</td>\n",
              "      <td>NaN</td>\n",
              "    </tr>\n",
              "    <tr>\n",
              "      <th>2979430</th>\n",
              "      <td>2</td>\n",
              "      <td>2022-02-28 23:04:00</td>\n",
              "      <td>2022-02-28 23:10:00</td>\n",
              "      <td>NaN</td>\n",
              "      <td>1.41</td>\n",
              "      <td>NaN</td>\n",
              "      <td>None</td>\n",
              "      <td>237</td>\n",
              "      <td>142</td>\n",
              "      <td>0</td>\n",
              "      <td>8.80</td>\n",
              "      <td>0.00</td>\n",
              "      <td>0.5</td>\n",
              "      <td>2.57</td>\n",
              "      <td>0.00</td>\n",
              "      <td>0.3</td>\n",
              "      <td>14.67</td>\n",
              "      <td>NaN</td>\n",
              "      <td>NaN</td>\n",
              "    </tr>\n",
              "  </tbody>\n",
              "</table>\n",
              "<p>2979431 rows × 19 columns</p>\n",
              "</div>\n",
              "      <button class=\"colab-df-convert\" onclick=\"convertToInteractive('df-55a1581f-cdc1-4635-84ac-711b21fdf18b')\"\n",
              "              title=\"Convert this dataframe to an interactive table.\"\n",
              "              style=\"display:none;\">\n",
              "        \n",
              "  <svg xmlns=\"http://www.w3.org/2000/svg\" height=\"24px\"viewBox=\"0 0 24 24\"\n",
              "       width=\"24px\">\n",
              "    <path d=\"M0 0h24v24H0V0z\" fill=\"none\"/>\n",
              "    <path d=\"M18.56 5.44l.94 2.06.94-2.06 2.06-.94-2.06-.94-.94-2.06-.94 2.06-2.06.94zm-11 1L8.5 8.5l.94-2.06 2.06-.94-2.06-.94L8.5 2.5l-.94 2.06-2.06.94zm10 10l.94 2.06.94-2.06 2.06-.94-2.06-.94-.94-2.06-.94 2.06-2.06.94z\"/><path d=\"M17.41 7.96l-1.37-1.37c-.4-.4-.92-.59-1.43-.59-.52 0-1.04.2-1.43.59L10.3 9.45l-7.72 7.72c-.78.78-.78 2.05 0 2.83L4 21.41c.39.39.9.59 1.41.59.51 0 1.02-.2 1.41-.59l7.78-7.78 2.81-2.81c.8-.78.8-2.07 0-2.86zM5.41 20L4 18.59l7.72-7.72 1.47 1.35L5.41 20z\"/>\n",
              "  </svg>\n",
              "      </button>\n",
              "      \n",
              "  <style>\n",
              "    .colab-df-container {\n",
              "      display:flex;\n",
              "      flex-wrap:wrap;\n",
              "      gap: 12px;\n",
              "    }\n",
              "\n",
              "    .colab-df-convert {\n",
              "      background-color: #E8F0FE;\n",
              "      border: none;\n",
              "      border-radius: 50%;\n",
              "      cursor: pointer;\n",
              "      display: none;\n",
              "      fill: #1967D2;\n",
              "      height: 32px;\n",
              "      padding: 0 0 0 0;\n",
              "      width: 32px;\n",
              "    }\n",
              "\n",
              "    .colab-df-convert:hover {\n",
              "      background-color: #E2EBFA;\n",
              "      box-shadow: 0px 1px 2px rgba(60, 64, 67, 0.3), 0px 1px 3px 1px rgba(60, 64, 67, 0.15);\n",
              "      fill: #174EA6;\n",
              "    }\n",
              "\n",
              "    [theme=dark] .colab-df-convert {\n",
              "      background-color: #3B4455;\n",
              "      fill: #D2E3FC;\n",
              "    }\n",
              "\n",
              "    [theme=dark] .colab-df-convert:hover {\n",
              "      background-color: #434B5C;\n",
              "      box-shadow: 0px 1px 3px 1px rgba(0, 0, 0, 0.15);\n",
              "      filter: drop-shadow(0px 1px 2px rgba(0, 0, 0, 0.3));\n",
              "      fill: #FFFFFF;\n",
              "    }\n",
              "  </style>\n",
              "\n",
              "      <script>\n",
              "        const buttonEl =\n",
              "          document.querySelector('#df-55a1581f-cdc1-4635-84ac-711b21fdf18b button.colab-df-convert');\n",
              "        buttonEl.style.display =\n",
              "          google.colab.kernel.accessAllowed ? 'block' : 'none';\n",
              "\n",
              "        async function convertToInteractive(key) {\n",
              "          const element = document.querySelector('#df-55a1581f-cdc1-4635-84ac-711b21fdf18b');\n",
              "          const dataTable =\n",
              "            await google.colab.kernel.invokeFunction('convertToInteractive',\n",
              "                                                     [key], {});\n",
              "          if (!dataTable) return;\n",
              "\n",
              "          const docLinkHtml = 'Like what you see? Visit the ' +\n",
              "            '<a target=\"_blank\" href=https://colab.research.google.com/notebooks/data_table.ipynb>data table notebook</a>'\n",
              "            + ' to learn more about interactive tables.';\n",
              "          element.innerHTML = '';\n",
              "          dataTable['output_type'] = 'display_data';\n",
              "          await google.colab.output.renderOutput(dataTable, element);\n",
              "          const docLink = document.createElement('div');\n",
              "          docLink.innerHTML = docLinkHtml;\n",
              "          element.appendChild(docLink);\n",
              "        }\n",
              "      </script>\n",
              "    </div>\n",
              "  </div>\n",
              "  "
            ]
          },
          "metadata": {},
          "execution_count": 8
        }
      ],
      "source": [
        "df"
      ],
      "id": "7nUaiBAUe4hg"
    },
    {
      "cell_type": "code",
      "execution_count": null,
      "metadata": {
        "colab": {
          "base_uri": "https://localhost:8080/"
        },
        "id": "975438e7",
        "outputId": "82e21f23-e1a8-4424-ebb2-c27bdf967c56"
      },
      "outputs": [
        {
          "output_type": "execute_result",
          "data": {
            "text/plain": [
              "RangeIndex(start=0, stop=2979431, step=1)"
            ]
          },
          "metadata": {},
          "execution_count": 9
        }
      ],
      "source": [
        "df.index"
      ],
      "id": "975438e7"
    },
    {
      "cell_type": "code",
      "execution_count": null,
      "metadata": {
        "colab": {
          "base_uri": "https://localhost:8080/"
        },
        "id": "e28b418b",
        "outputId": "99deebfc-5e7d-4251-f794-dfb153d2ef7e"
      },
      "outputs": [
        {
          "output_type": "execute_result",
          "data": {
            "text/plain": [
              "(2979431, 19)"
            ]
          },
          "metadata": {},
          "execution_count": 10
        }
      ],
      "source": [
        "#Show samples and features\n",
        "df.shape"
      ],
      "id": "e28b418b"
    },
    {
      "cell_type": "markdown",
      "metadata": {
        "id": "8d4ca856"
      },
      "source": [
        "Dataset have 2979431 samples and 18 features"
      ],
      "id": "8d4ca856"
    },
    {
      "cell_type": "code",
      "execution_count": null,
      "metadata": {
        "colab": {
          "base_uri": "https://localhost:8080/",
          "height": 378
        },
        "id": "f9021c12",
        "outputId": "8ab78649-7a6b-4e15-f2f4-1011917c1fdd"
      },
      "outputs": [
        {
          "output_type": "execute_result",
          "data": {
            "text/plain": [
              "           VendorID  passenger_count  trip_distance    RatecodeID  \\\n",
              "count  2.979431e+06     2.877693e+06   2.979431e+06  2.877693e+06   \n",
              "mean   1.710175e+00     1.392135e+00   5.852134e+00  1.423419e+00   \n",
              "std    5.014011e-01     9.841230e-01   6.425304e+02  6.017545e+00   \n",
              "min    1.000000e+00     0.000000e+00   0.000000e+00  1.000000e+00   \n",
              "25%    1.000000e+00     1.000000e+00   1.080000e+00  1.000000e+00   \n",
              "50%    2.000000e+00     1.000000e+00   1.790000e+00  1.000000e+00   \n",
              "75%    2.000000e+00     1.000000e+00   3.200000e+00  1.000000e+00   \n",
              "max    6.000000e+00     9.000000e+00   3.487985e+05  9.900000e+01   \n",
              "\n",
              "       PULocationID  DOLocationID  payment_type   fare_amount         extra  \\\n",
              "count  2.979431e+06  2.979431e+06  2.979431e+06  2.979431e+06  2.979431e+06   \n",
              "mean   1.655315e+02  1.634342e+02  1.173644e+00  1.312644e+01  1.017306e+00   \n",
              "std    6.560966e+01  7.042023e+01  4.952479e-01  1.204619e+01  1.234659e+00   \n",
              "min    1.000000e+00  1.000000e+00  0.000000e+00 -6.000000e+02 -4.500000e+00   \n",
              "25%    1.320000e+02  1.130000e+02  1.000000e+00  6.500000e+00  0.000000e+00   \n",
              "50%    1.620000e+02  1.620000e+02  1.000000e+00  9.500000e+00  5.000000e-01   \n",
              "75%    2.340000e+02  2.340000e+02  1.000000e+00  1.450000e+01  2.500000e+00   \n",
              "max    2.650000e+02  2.650000e+02  5.000000e+00  6.553500e+02  1.030000e+01   \n",
              "\n",
              "            mta_tax    tip_amount  tolls_amount  improvement_surcharge  \\\n",
              "count  2.979431e+06  2.979431e+06  2.979431e+06           2.979431e+06   \n",
              "mean   4.917318e-01  2.500827e+00  3.829806e-01           2.967511e-01   \n",
              "std    8.149128e-02  2.788297e+00  1.671188e+00           4.363037e-02   \n",
              "min   -5.000000e-01 -1.880000e+02 -2.905000e+01          -3.000000e-01   \n",
              "25%    5.000000e-01  1.000000e+00  0.000000e+00           3.000000e-01   \n",
              "50%    5.000000e-01  2.060000e+00  0.000000e+00           3.000000e-01   \n",
              "75%    5.000000e-01  3.150000e+00  0.000000e+00           3.000000e-01   \n",
              "max    3.300000e+00  3.808000e+02  9.500000e+01           3.000000e-01   \n",
              "\n",
              "       total_amount  congestion_surcharge   airport_fee  \n",
              "count  2.979431e+06          2.877693e+06  2.877693e+06  \n",
              "mean   1.949775e+01          2.305946e+00  7.364059e-02  \n",
              "std    1.494599e+01          7.097711e-01  2.963704e-01  \n",
              "min   -6.003000e+02         -2.500000e+00 -1.250000e+00  \n",
              "25%    1.176000e+01          2.500000e+00  0.000000e+00  \n",
              "50%    1.530000e+01          2.500000e+00  0.000000e+00  \n",
              "75%    2.080000e+01          2.500000e+00  0.000000e+00  \n",
              "max    6.561500e+02          2.750000e+00  1.250000e+00  "
            ],
            "text/html": [
              "\n",
              "  <div id=\"df-b59eb8d8-c45c-4e14-bfb2-359717b3cd51\">\n",
              "    <div class=\"colab-df-container\">\n",
              "      <div>\n",
              "<style scoped>\n",
              "    .dataframe tbody tr th:only-of-type {\n",
              "        vertical-align: middle;\n",
              "    }\n",
              "\n",
              "    .dataframe tbody tr th {\n",
              "        vertical-align: top;\n",
              "    }\n",
              "\n",
              "    .dataframe thead th {\n",
              "        text-align: right;\n",
              "    }\n",
              "</style>\n",
              "<table border=\"1\" class=\"dataframe\">\n",
              "  <thead>\n",
              "    <tr style=\"text-align: right;\">\n",
              "      <th></th>\n",
              "      <th>VendorID</th>\n",
              "      <th>passenger_count</th>\n",
              "      <th>trip_distance</th>\n",
              "      <th>RatecodeID</th>\n",
              "      <th>PULocationID</th>\n",
              "      <th>DOLocationID</th>\n",
              "      <th>payment_type</th>\n",
              "      <th>fare_amount</th>\n",
              "      <th>extra</th>\n",
              "      <th>mta_tax</th>\n",
              "      <th>tip_amount</th>\n",
              "      <th>tolls_amount</th>\n",
              "      <th>improvement_surcharge</th>\n",
              "      <th>total_amount</th>\n",
              "      <th>congestion_surcharge</th>\n",
              "      <th>airport_fee</th>\n",
              "    </tr>\n",
              "  </thead>\n",
              "  <tbody>\n",
              "    <tr>\n",
              "      <th>count</th>\n",
              "      <td>2.979431e+06</td>\n",
              "      <td>2.877693e+06</td>\n",
              "      <td>2.979431e+06</td>\n",
              "      <td>2.877693e+06</td>\n",
              "      <td>2.979431e+06</td>\n",
              "      <td>2.979431e+06</td>\n",
              "      <td>2.979431e+06</td>\n",
              "      <td>2.979431e+06</td>\n",
              "      <td>2.979431e+06</td>\n",
              "      <td>2.979431e+06</td>\n",
              "      <td>2.979431e+06</td>\n",
              "      <td>2.979431e+06</td>\n",
              "      <td>2.979431e+06</td>\n",
              "      <td>2.979431e+06</td>\n",
              "      <td>2.877693e+06</td>\n",
              "      <td>2.877693e+06</td>\n",
              "    </tr>\n",
              "    <tr>\n",
              "      <th>mean</th>\n",
              "      <td>1.710175e+00</td>\n",
              "      <td>1.392135e+00</td>\n",
              "      <td>5.852134e+00</td>\n",
              "      <td>1.423419e+00</td>\n",
              "      <td>1.655315e+02</td>\n",
              "      <td>1.634342e+02</td>\n",
              "      <td>1.173644e+00</td>\n",
              "      <td>1.312644e+01</td>\n",
              "      <td>1.017306e+00</td>\n",
              "      <td>4.917318e-01</td>\n",
              "      <td>2.500827e+00</td>\n",
              "      <td>3.829806e-01</td>\n",
              "      <td>2.967511e-01</td>\n",
              "      <td>1.949775e+01</td>\n",
              "      <td>2.305946e+00</td>\n",
              "      <td>7.364059e-02</td>\n",
              "    </tr>\n",
              "    <tr>\n",
              "      <th>std</th>\n",
              "      <td>5.014011e-01</td>\n",
              "      <td>9.841230e-01</td>\n",
              "      <td>6.425304e+02</td>\n",
              "      <td>6.017545e+00</td>\n",
              "      <td>6.560966e+01</td>\n",
              "      <td>7.042023e+01</td>\n",
              "      <td>4.952479e-01</td>\n",
              "      <td>1.204619e+01</td>\n",
              "      <td>1.234659e+00</td>\n",
              "      <td>8.149128e-02</td>\n",
              "      <td>2.788297e+00</td>\n",
              "      <td>1.671188e+00</td>\n",
              "      <td>4.363037e-02</td>\n",
              "      <td>1.494599e+01</td>\n",
              "      <td>7.097711e-01</td>\n",
              "      <td>2.963704e-01</td>\n",
              "    </tr>\n",
              "    <tr>\n",
              "      <th>min</th>\n",
              "      <td>1.000000e+00</td>\n",
              "      <td>0.000000e+00</td>\n",
              "      <td>0.000000e+00</td>\n",
              "      <td>1.000000e+00</td>\n",
              "      <td>1.000000e+00</td>\n",
              "      <td>1.000000e+00</td>\n",
              "      <td>0.000000e+00</td>\n",
              "      <td>-6.000000e+02</td>\n",
              "      <td>-4.500000e+00</td>\n",
              "      <td>-5.000000e-01</td>\n",
              "      <td>-1.880000e+02</td>\n",
              "      <td>-2.905000e+01</td>\n",
              "      <td>-3.000000e-01</td>\n",
              "      <td>-6.003000e+02</td>\n",
              "      <td>-2.500000e+00</td>\n",
              "      <td>-1.250000e+00</td>\n",
              "    </tr>\n",
              "    <tr>\n",
              "      <th>25%</th>\n",
              "      <td>1.000000e+00</td>\n",
              "      <td>1.000000e+00</td>\n",
              "      <td>1.080000e+00</td>\n",
              "      <td>1.000000e+00</td>\n",
              "      <td>1.320000e+02</td>\n",
              "      <td>1.130000e+02</td>\n",
              "      <td>1.000000e+00</td>\n",
              "      <td>6.500000e+00</td>\n",
              "      <td>0.000000e+00</td>\n",
              "      <td>5.000000e-01</td>\n",
              "      <td>1.000000e+00</td>\n",
              "      <td>0.000000e+00</td>\n",
              "      <td>3.000000e-01</td>\n",
              "      <td>1.176000e+01</td>\n",
              "      <td>2.500000e+00</td>\n",
              "      <td>0.000000e+00</td>\n",
              "    </tr>\n",
              "    <tr>\n",
              "      <th>50%</th>\n",
              "      <td>2.000000e+00</td>\n",
              "      <td>1.000000e+00</td>\n",
              "      <td>1.790000e+00</td>\n",
              "      <td>1.000000e+00</td>\n",
              "      <td>1.620000e+02</td>\n",
              "      <td>1.620000e+02</td>\n",
              "      <td>1.000000e+00</td>\n",
              "      <td>9.500000e+00</td>\n",
              "      <td>5.000000e-01</td>\n",
              "      <td>5.000000e-01</td>\n",
              "      <td>2.060000e+00</td>\n",
              "      <td>0.000000e+00</td>\n",
              "      <td>3.000000e-01</td>\n",
              "      <td>1.530000e+01</td>\n",
              "      <td>2.500000e+00</td>\n",
              "      <td>0.000000e+00</td>\n",
              "    </tr>\n",
              "    <tr>\n",
              "      <th>75%</th>\n",
              "      <td>2.000000e+00</td>\n",
              "      <td>1.000000e+00</td>\n",
              "      <td>3.200000e+00</td>\n",
              "      <td>1.000000e+00</td>\n",
              "      <td>2.340000e+02</td>\n",
              "      <td>2.340000e+02</td>\n",
              "      <td>1.000000e+00</td>\n",
              "      <td>1.450000e+01</td>\n",
              "      <td>2.500000e+00</td>\n",
              "      <td>5.000000e-01</td>\n",
              "      <td>3.150000e+00</td>\n",
              "      <td>0.000000e+00</td>\n",
              "      <td>3.000000e-01</td>\n",
              "      <td>2.080000e+01</td>\n",
              "      <td>2.500000e+00</td>\n",
              "      <td>0.000000e+00</td>\n",
              "    </tr>\n",
              "    <tr>\n",
              "      <th>max</th>\n",
              "      <td>6.000000e+00</td>\n",
              "      <td>9.000000e+00</td>\n",
              "      <td>3.487985e+05</td>\n",
              "      <td>9.900000e+01</td>\n",
              "      <td>2.650000e+02</td>\n",
              "      <td>2.650000e+02</td>\n",
              "      <td>5.000000e+00</td>\n",
              "      <td>6.553500e+02</td>\n",
              "      <td>1.030000e+01</td>\n",
              "      <td>3.300000e+00</td>\n",
              "      <td>3.808000e+02</td>\n",
              "      <td>9.500000e+01</td>\n",
              "      <td>3.000000e-01</td>\n",
              "      <td>6.561500e+02</td>\n",
              "      <td>2.750000e+00</td>\n",
              "      <td>1.250000e+00</td>\n",
              "    </tr>\n",
              "  </tbody>\n",
              "</table>\n",
              "</div>\n",
              "      <button class=\"colab-df-convert\" onclick=\"convertToInteractive('df-b59eb8d8-c45c-4e14-bfb2-359717b3cd51')\"\n",
              "              title=\"Convert this dataframe to an interactive table.\"\n",
              "              style=\"display:none;\">\n",
              "        \n",
              "  <svg xmlns=\"http://www.w3.org/2000/svg\" height=\"24px\"viewBox=\"0 0 24 24\"\n",
              "       width=\"24px\">\n",
              "    <path d=\"M0 0h24v24H0V0z\" fill=\"none\"/>\n",
              "    <path d=\"M18.56 5.44l.94 2.06.94-2.06 2.06-.94-2.06-.94-.94-2.06-.94 2.06-2.06.94zm-11 1L8.5 8.5l.94-2.06 2.06-.94-2.06-.94L8.5 2.5l-.94 2.06-2.06.94zm10 10l.94 2.06.94-2.06 2.06-.94-2.06-.94-.94-2.06-.94 2.06-2.06.94z\"/><path d=\"M17.41 7.96l-1.37-1.37c-.4-.4-.92-.59-1.43-.59-.52 0-1.04.2-1.43.59L10.3 9.45l-7.72 7.72c-.78.78-.78 2.05 0 2.83L4 21.41c.39.39.9.59 1.41.59.51 0 1.02-.2 1.41-.59l7.78-7.78 2.81-2.81c.8-.78.8-2.07 0-2.86zM5.41 20L4 18.59l7.72-7.72 1.47 1.35L5.41 20z\"/>\n",
              "  </svg>\n",
              "      </button>\n",
              "      \n",
              "  <style>\n",
              "    .colab-df-container {\n",
              "      display:flex;\n",
              "      flex-wrap:wrap;\n",
              "      gap: 12px;\n",
              "    }\n",
              "\n",
              "    .colab-df-convert {\n",
              "      background-color: #E8F0FE;\n",
              "      border: none;\n",
              "      border-radius: 50%;\n",
              "      cursor: pointer;\n",
              "      display: none;\n",
              "      fill: #1967D2;\n",
              "      height: 32px;\n",
              "      padding: 0 0 0 0;\n",
              "      width: 32px;\n",
              "    }\n",
              "\n",
              "    .colab-df-convert:hover {\n",
              "      background-color: #E2EBFA;\n",
              "      box-shadow: 0px 1px 2px rgba(60, 64, 67, 0.3), 0px 1px 3px 1px rgba(60, 64, 67, 0.15);\n",
              "      fill: #174EA6;\n",
              "    }\n",
              "\n",
              "    [theme=dark] .colab-df-convert {\n",
              "      background-color: #3B4455;\n",
              "      fill: #D2E3FC;\n",
              "    }\n",
              "\n",
              "    [theme=dark] .colab-df-convert:hover {\n",
              "      background-color: #434B5C;\n",
              "      box-shadow: 0px 1px 3px 1px rgba(0, 0, 0, 0.15);\n",
              "      filter: drop-shadow(0px 1px 2px rgba(0, 0, 0, 0.3));\n",
              "      fill: #FFFFFF;\n",
              "    }\n",
              "  </style>\n",
              "\n",
              "      <script>\n",
              "        const buttonEl =\n",
              "          document.querySelector('#df-b59eb8d8-c45c-4e14-bfb2-359717b3cd51 button.colab-df-convert');\n",
              "        buttonEl.style.display =\n",
              "          google.colab.kernel.accessAllowed ? 'block' : 'none';\n",
              "\n",
              "        async function convertToInteractive(key) {\n",
              "          const element = document.querySelector('#df-b59eb8d8-c45c-4e14-bfb2-359717b3cd51');\n",
              "          const dataTable =\n",
              "            await google.colab.kernel.invokeFunction('convertToInteractive',\n",
              "                                                     [key], {});\n",
              "          if (!dataTable) return;\n",
              "\n",
              "          const docLinkHtml = 'Like what you see? Visit the ' +\n",
              "            '<a target=\"_blank\" href=https://colab.research.google.com/notebooks/data_table.ipynb>data table notebook</a>'\n",
              "            + ' to learn more about interactive tables.';\n",
              "          element.innerHTML = '';\n",
              "          dataTable['output_type'] = 'display_data';\n",
              "          await google.colab.output.renderOutput(dataTable, element);\n",
              "          const docLink = document.createElement('div');\n",
              "          docLink.innerHTML = docLinkHtml;\n",
              "          element.appendChild(docLink);\n",
              "        }\n",
              "      </script>\n",
              "    </div>\n",
              "  </div>\n",
              "  "
            ]
          },
          "metadata": {},
          "execution_count": 11
        }
      ],
      "source": [
        "df.describe()"
      ],
      "id": "f9021c12"
    },
    {
      "cell_type": "code",
      "execution_count": null,
      "metadata": {
        "colab": {
          "base_uri": "https://localhost:8080/"
        },
        "id": "a55dd222",
        "outputId": "05a48040-ecc1-4592-cc37-cf8cfb9e5bbf",
        "scrolled": false
      },
      "outputs": [
        {
          "output_type": "stream",
          "name": "stdout",
          "text": [
            "<class 'pandas.core.frame.DataFrame'>\n",
            "RangeIndex: 2979431 entries, 0 to 2979430\n",
            "Data columns (total 19 columns):\n",
            " #   Column                 Dtype         \n",
            "---  ------                 -----         \n",
            " 0   VendorID               int64         \n",
            " 1   tpep_pickup_datetime   datetime64[ns]\n",
            " 2   tpep_dropoff_datetime  datetime64[ns]\n",
            " 3   passenger_count        float64       \n",
            " 4   trip_distance          float64       \n",
            " 5   RatecodeID             float64       \n",
            " 6   store_and_fwd_flag     object        \n",
            " 7   PULocationID           int64         \n",
            " 8   DOLocationID           int64         \n",
            " 9   payment_type           int64         \n",
            " 10  fare_amount            float64       \n",
            " 11  extra                  float64       \n",
            " 12  mta_tax                float64       \n",
            " 13  tip_amount             float64       \n",
            " 14  tolls_amount           float64       \n",
            " 15  improvement_surcharge  float64       \n",
            " 16  total_amount           float64       \n",
            " 17  congestion_surcharge   float64       \n",
            " 18  airport_fee            float64       \n",
            "dtypes: datetime64[ns](2), float64(12), int64(4), object(1)\n",
            "memory usage: 431.9+ MB\n"
          ]
        }
      ],
      "source": [
        "#Check datatype\n",
        "df.info()"
      ],
      "id": "a55dd222"
    },
    {
      "cell_type": "code",
      "execution_count": null,
      "metadata": {
        "colab": {
          "base_uri": "https://localhost:8080/"
        },
        "id": "3a3a787d",
        "outputId": "abc6b33f-2414-447e-c8fd-bbf5ee00eee4",
        "scrolled": true
      },
      "outputs": [
        {
          "output_type": "execute_result",
          "data": {
            "text/plain": [
              "VendorID                      0\n",
              "tpep_pickup_datetime          0\n",
              "tpep_dropoff_datetime         0\n",
              "passenger_count          101738\n",
              "trip_distance                 0\n",
              "RatecodeID               101738\n",
              "store_and_fwd_flag       101738\n",
              "PULocationID                  0\n",
              "DOLocationID                  0\n",
              "payment_type                  0\n",
              "fare_amount                   0\n",
              "extra                         0\n",
              "mta_tax                       0\n",
              "tip_amount                    0\n",
              "tolls_amount                  0\n",
              "improvement_surcharge         0\n",
              "total_amount                  0\n",
              "congestion_surcharge     101738\n",
              "airport_fee              101738\n",
              "dtype: int64"
            ]
          },
          "metadata": {},
          "execution_count": 13
        }
      ],
      "source": [
        "#Check count of missing values\n",
        "df.isnull().sum()"
      ],
      "id": "3a3a787d"
    },
    {
      "cell_type": "markdown",
      "metadata": {
        "id": "e6c46a69"
      },
      "source": [
        "There are about 100,000 Missing Values in a particular 4 columns."
      ],
      "id": "e6c46a69"
    },
    {
      "cell_type": "code",
      "execution_count": null,
      "metadata": {
        "colab": {
          "base_uri": "https://localhost:8080/"
        },
        "id": "ac2a6b53",
        "outputId": "071b5dea-1625-4967-c75e-9476d1e43ca3"
      },
      "outputs": [
        {
          "output_type": "execute_result",
          "data": {
            "text/plain": [
              "19.49775431588326"
            ]
          },
          "metadata": {},
          "execution_count": 14
        }
      ],
      "source": [
        "#Find average value of total_amount\n",
        "df['total_amount'].mean()"
      ],
      "id": "ac2a6b53"
    },
    {
      "cell_type": "code",
      "execution_count": null,
      "metadata": {
        "colab": {
          "base_uri": "https://localhost:8080/",
          "height": 198
        },
        "id": "1e5ba2e5",
        "outputId": "621edc92-cb26-45ff-9f08-10e546aa77ea"
      },
      "outputs": [
        {
          "output_type": "error",
          "ename": "TypeError",
          "evalue": "ignored",
          "traceback": [
            "\u001b[0;31m---------------------------------------------------------------------------\u001b[0m",
            "\u001b[0;31mTypeError\u001b[0m                                 Traceback (most recent call last)",
            "\u001b[0;32m<ipython-input-16-f40d9434a56a>\u001b[0m in \u001b[0;36m<module>\u001b[0;34m()\u001b[0m\n\u001b[1;32m      1\u001b[0m \u001b[0;32mfrom\u001b[0m \u001b[0mpandas\u001b[0m\u001b[0;34m.\u001b[0m\u001b[0mio\u001b[0m\u001b[0;34m.\u001b[0m\u001b[0mformats\u001b[0m\u001b[0;34m.\u001b[0m\u001b[0minfo\u001b[0m \u001b[0;32mimport\u001b[0m \u001b[0mDataFrameInfoPrinter\u001b[0m\u001b[0;34m\u001b[0m\u001b[0;34m\u001b[0m\u001b[0m\n\u001b[1;32m      2\u001b[0m \u001b[0;31m#Find average value of passenger_count\u001b[0m\u001b[0;34m\u001b[0m\u001b[0;34m\u001b[0m\u001b[0;34m\u001b[0m\u001b[0m\n\u001b[0;32m----> 3\u001b[0;31m \u001b[0mDataFrameInfoPrinter\u001b[0m\u001b[0;34m[\u001b[0m\u001b[0;34m'passenger_count'\u001b[0m\u001b[0;34m]\u001b[0m\u001b[0;34m.\u001b[0m\u001b[0mmean\u001b[0m\u001b[0;34m(\u001b[0m\u001b[0;34m)\u001b[0m\u001b[0;34m\u001b[0m\u001b[0;34m\u001b[0m\u001b[0m\n\u001b[0m",
            "\u001b[0;31mTypeError\u001b[0m: 'type' object is not subscriptable"
          ]
        }
      ],
      "source": [
        "from pandas.io.formats.info import DataFrameInfoPrinter\n",
        "#Find average value of passenger_count\n",
        "DataFrameInfoPrinter['passenger_count'].mean()"
      ],
      "id": "1e5ba2e5"
    },
    {
      "cell_type": "code",
      "execution_count": null,
      "metadata": {
        "colab": {
          "base_uri": "https://localhost:8080/"
        },
        "id": "cd36c54d",
        "outputId": "309834ec-667b-4123-bd48-96f90c8c9ba1"
      },
      "outputs": [
        {
          "output_type": "execute_result",
          "data": {
            "text/plain": [
              "5.8521342833576835"
            ]
          },
          "metadata": {},
          "execution_count": 17
        }
      ],
      "source": [
        "#Find average value of trip_distance\n",
        "df['trip_distance'].mean()"
      ],
      "id": "cd36c54d"
    },
    {
      "cell_type": "code",
      "execution_count": null,
      "metadata": {
        "colab": {
          "base_uri": "https://localhost:8080/",
          "height": 361
        },
        "id": "215d77d0",
        "outputId": "58c925a7-efe5-4cd9-9bde-5802a97d02d2"
      },
      "outputs": [
        {
          "output_type": "execute_result",
          "data": {
            "text/plain": [
              "(array([8.906880e+05, 0.000000e+00, 2.081943e+06, 0.000000e+00,\n",
              "        0.000000e+00, 0.000000e+00, 0.000000e+00, 0.000000e+00,\n",
              "        2.600000e+01, 6.774000e+03]),\n",
              " array([1. , 1.5, 2. , 2.5, 3. , 3.5, 4. , 4.5, 5. , 5.5, 6. ]),\n",
              " <a list of 10 Patch objects>)"
            ]
          },
          "metadata": {},
          "execution_count": 18
        },
        {
          "output_type": "display_data",
          "data": {
            "text/plain": [
              "<Figure size 432x288 with 1 Axes>"
            ],
            "image/png": "[encoded data removed]"
          },
          "metadata": {
            "needs_background": "light"
          }
        }
      ],
      "source": [
        "#VendorID's histogram\n",
        "plt.hist(df['VendorID'])"
      ],
      "id": "215d77d0"
    },
    {
      "cell_type": "markdown",
      "source": [
        ""
      ],
      "metadata": {
        "id": "IfT4ntKjvc97"
      },
      "id": "IfT4ntKjvc97"
    },
    {
      "cell_type": "markdown",
      "metadata": {
        "id": "8b14b266"
      },
      "source": [
        "It should only have values of 1 and 2, but it seems that there is an outlier. Our team will handle it later."
      ],
      "id": "8b14b266"
    },
    {
      "cell_type": "code",
      "execution_count": null,
      "metadata": {
        "id": "4403fa36"
      },
      "outputs": [],
      "source": [
        "#Passenger_count's histogram\n",
        "plt.hist(df['passenger_count'],range=(df['passenger_count'].min(),df['passenger_count'].max()),density=True)"
      ],
      "id": "4403fa36"
    },
    {
      "cell_type": "code",
      "execution_count": null,
      "metadata": {
        "id": "be0ca002"
      },
      "outputs": [],
      "source": [
        "#RatecodeID's histogram\n",
        "plt.hist(df['RatecodeID'],range(0,7),density=True,align='mid',width=0.3)"
      ],
      "id": "be0ca002"
    },
    {
      "cell_type": "code",
      "execution_count": null,
      "metadata": {
        "id": "9f1c3e28"
      },
      "outputs": [],
      "source": [
        "#Payment_type's histogram\n",
        "plt.hist(df['payment_type'],align='left',density=True)"
      ],
      "id": "9f1c3e28"
    },
    {
      "cell_type": "code",
      "execution_count": null,
      "metadata": {
        "id": "bcb750fc"
      },
      "outputs": [],
      "source": [
        "#VendorID's piegraph\n",
        "condition = (df.VendorID == 1)\n",
        "v1 = df[condition].shape[0]\n",
        "\n",
        "condition = (df.VendorID == 2)\n",
        "v2 = df[condition].shape[0]\n",
        "\n",
        "langs = ['CMT','VeriFone']\n",
        "num = [v1,v2]\n",
        "plt.pie(num,labels=langs,autopct='%1.2f%%')"
      ],
      "id": "bcb750fc"
    },
    {
      "cell_type": "code",
      "execution_count": null,
      "metadata": {
        "id": "c3ee7fda"
      },
      "outputs": [],
      "source": [
        "#RatecodeID's piegraph\n",
        "c1=(data.RatecodeID==1)\n",
        "c2=(data.RatecodeID==2)\n",
        "c3=(data.RatecodeID==3)\n",
        "c4=(data.RatecodeID==4)\n",
        "c5=(data.RatecodeID==5)\n",
        "c6=(data.RatecodeID==6)\n",
        "v1=data[c1].shape[0]\n",
        "v2=data[c2].shape[0]\n",
        "v3=data[c3].shape[0]\n",
        "v4=data[c4].shape[0]\n",
        "v5=data[c5].shape[0]\n",
        "v6=data[c6].shape[0]\n",
        "langs=['Standard Rate','JFK','Newark','Nassau,Westchester','Negotiated fare','Group ride']\n",
        "num=[v1,v2,v3,v4,v5,v6]\n",
        "plt.pie(num,labels=langs,autopct='%1.2f%%')"
      ],
      "id": "c3ee7fda"
    },
    {
      "cell_type": "code",
      "execution_count": null,
      "metadata": {
        "id": "aee15344"
      },
      "outputs": [],
      "source": [
        "#Store_and_fwd_flag's piegraph\n",
        "c1=(data.store_and_fwd_flag=='Y')\n",
        "c2=(data.store_and_fwd_flag=='N')\n",
        "v1=data[c1].shape[0]\n",
        "v2=data[c2].shape[0]\n",
        "langs=['Store','Not Store']\n",
        "num=[v1,v2]\n",
        "plt.pie(num,labels=langs,autopct='%1.2f%%')"
      ],
      "id": "aee15344"
    },
    {
      "cell_type": "markdown",
      "metadata": {
        "id": "37c19980"
      },
      "source": [
        "In the case of the starting position and the arriving position, the range is very large from 1 to 265, and visibility seems to be insufficient even when displayed as a histogram. I'm going to look for a better way. We think the total taxi fare and total travel distance can be shown in the boxplot to show how much the outlier and data are formed."
      ],
      "id": "37c19980"
    },
    {
      "cell_type": "code",
      "execution_count": null,
      "metadata": {
        "id": "d28613e4"
      },
      "outputs": [],
      "source": [
        "#total_amount's boxplot\n",
        "plt.boxplot(data['total_amount'])\n",
        "plt.title(\"Total amount\")"
      ],
      "id": "d28613e4"
    },
    {
      "cell_type": "code",
      "execution_count": null,
      "metadata": {
        "id": "90223f5e"
      },
      "outputs": [],
      "source": [
        "#trip_distance's boxplot\n",
        "plt.boxplot(data['trip_distance'])\n",
        "plt.title(\"Trip Distance\")"
      ],
      "id": "90223f5e"
    },
    {
      "cell_type": "code",
      "execution_count": null,
      "metadata": {
        "id": "52afdb06"
      },
      "outputs": [],
      "source": [
        "#fare_amount's boxplot\n",
        "plt.boxplot(data['fare_amount'])\n",
        "plt.title(\"Fare Amount\")"
      ],
      "id": "52afdb06"
    },
    {
      "cell_type": "markdown",
      "metadata": {
        "id": "26affdda"
      },
      "source": [
        "As you can see from the above 3 graphs, the amount of data itself is too large, so there are many outsiders. We think we'll have to deal with these data later."
      ],
      "id": "26affdda"
    },
    {
      "cell_type": "code",
      "execution_count": null,
      "metadata": {
        "id": "c022d52c"
      },
      "outputs": [],
      "source": [
        "#correlation heatmap\n",
        "corrdata=data.corr()\n",
        "\n",
        "sns.heatmap(corrdata,cmap='RdYlBu_r')\n",
        "plt.figure(figsize=(15,15))"
      ],
      "id": "c022d52c"
    },
    {
      "cell_type": "code",
      "execution_count": null,
      "metadata": {
        "id": "0b366b02"
      },
      "outputs": [],
      "source": [
        "#Groupby PULocationID\n",
        "grd=data.groupby([\"PULocationID\"]).count()\n",
        "\n",
        "PUL=grd.iloc[:,0]\n",
        "PUL=PUL.to_frame()\n",
        "PUL.columns=['Number of Passengers']\n",
        "PUL"
      ],
      "id": "0b366b02"
    },
    {
      "cell_type": "code",
      "execution_count": null,
      "metadata": {
        "id": "da35a9b1"
      },
      "outputs": [],
      "source": [
        "#Groupby ascending order of PULocationID\n",
        "grd=data.groupby([\"PULocationID\"]).count()\n",
        "PUL=grd.iloc[:,0]\n",
        "PUL=PUL.to_frame()\n",
        "PUL.columns=['Number of Passengers']\n",
        "PUL.sort_values(by=['Number of Passengers'],axis=0,ascending=False)"
      ],
      "id": "da35a9b1"
    },
    {
      "cell_type": "code",
      "execution_count": null,
      "metadata": {
        "id": "cfafe0e9"
      },
      "outputs": [],
      "source": [
        "#Groupby ascending order of DOLocationID\n",
        "grd=data.groupby([\"DOLocationID\"]).count()\n",
        "DOL=grd.iloc[:,0]\n",
        "DOL=DOL.to_frame()\n",
        "DOL.columns=['Number of Passengers']\n",
        "DOL.sort_values(by=['Number of Passengers'],axis=0,ascending=False)"
      ],
      "id": "cfafe0e9"
    },
    {
      "cell_type": "markdown",
      "metadata": {
        "id": "9c7a6627"
      },
      "source": [
        "There is a limit to seeing it as a plot, so first of all, through the groupby operation, a new data frame of the location where customers ride the most and get off can be created to give information to the area where there are many customers from the taxi drivers"
      ],
      "id": "9c7a6627"
    },
    {
      "cell_type": "code",
      "execution_count": null,
      "metadata": {
        "id": "451def1b"
      },
      "outputs": [],
      "source": [
        "#Drop missing value type 'object'\n",
        "data = data.dropna(subset = ['store_and_fwd_flag'])\n",
        "\n",
        "data.isnull().sum()"
      ],
      "id": "451def1b"
    },
    {
      "cell_type": "code",
      "execution_count": null,
      "metadata": {
        "id": "bf0a01b8"
      },
      "outputs": [],
      "source": [
        "data.shape"
      ],
      "id": "bf0a01b8"
    },
    {
      "cell_type": "code",
      "execution_count": null,
      "metadata": {
        "id": "3ec27ac4"
      },
      "outputs": [],
      "source": [
        "data.head(10)"
      ],
      "id": "3ec27ac4"
    },
    {
      "cell_type": "code",
      "execution_count": null,
      "metadata": {
        "id": "oOqsOgWH5Lk1"
      },
      "outputs": [],
      "source": [
        "data = data.drop(['VendorID', 'payment_type'],axis = 1)"
      ],
      "id": "oOqsOgWH5Lk1"
    },
    {
      "cell_type": "code",
      "execution_count": null,
      "metadata": {
        "id": "esgmHEh-5ndY"
      },
      "outputs": [],
      "source": [
        "data.head(10)"
      ],
      "id": "esgmHEh-5ndY"
    },
    {
      "cell_type": "code",
      "execution_count": null,
      "metadata": {
        "id": "65dfd504"
      },
      "outputs": [],
      "source": [
        "len(data[data['trip_distance'] <= 0])"
      ],
      "id": "65dfd504"
    },
    {
      "cell_type": "code",
      "execution_count": null,
      "metadata": {
        "id": "9f79dc2b"
      },
      "outputs": [],
      "source": [
        "data.groupby('RatecodeID')['trip_distance'].median()"
      ],
      "id": "9f79dc2b"
    },
    {
      "cell_type": "code",
      "execution_count": null,
      "metadata": {
        "id": "KEzITlUvUWiS"
      },
      "outputs": [],
      "source": [
        "len(data[data['total_amount'] <= 0])"
      ],
      "id": "KEzITlUvUWiS"
    },
    {
      "cell_type": "code",
      "execution_count": null,
      "metadata": {
        "id": "JT6jRJpDUqJ_"
      },
      "outputs": [],
      "source": [
        "data = data[data['total_amount']>0]"
      ],
      "id": "JT6jRJpDUqJ_"
    },
    {
      "cell_type": "code",
      "execution_count": null,
      "metadata": {
        "id": "ghE1L_GlU0yf"
      },
      "outputs": [],
      "source": [
        "len(data[data['total_amount'] <= 0])"
      ],
      "id": "ghE1L_GlU0yf"
    },
    {
      "cell_type": "code",
      "execution_count": null,
      "metadata": {
        "id": "seiXxP6jU6Ek"
      },
      "outputs": [],
      "source": [
        "len(data[data['trip_distance'] <= 0])"
      ],
      "id": "seiXxP6jU6Ek"
    },
    {
      "cell_type": "code",
      "execution_count": null,
      "metadata": {
        "id": "scZTzZZPVCsH"
      },
      "outputs": [],
      "source": [
        "data = data[data['trip_distance']>0]"
      ],
      "id": "scZTzZZPVCsH"
    },
    {
      "cell_type": "code",
      "execution_count": null,
      "metadata": {
        "id": "rSZFhDbmVHwG"
      },
      "outputs": [],
      "source": [
        "data.shape"
      ],
      "id": "rSZFhDbmVHwG"
    },
    {
      "cell_type": "code",
      "execution_count": null,
      "metadata": {
        "id": "4zTDCg9-VKgD"
      },
      "outputs": [],
      "source": [
        "len(data[data['passenger_count'] <= 0])"
      ],
      "id": "4zTDCg9-VKgD"
    },
    {
      "cell_type": "code",
      "execution_count": null,
      "metadata": {
        "id": "9bv8VgHtWFRD"
      },
      "outputs": [],
      "source": [
        "data = data[data['passenger_count']>0]"
      ],
      "id": "9bv8VgHtWFRD"
    },
    {
      "cell_type": "code",
      "execution_count": null,
      "metadata": {
        "id": "yAdpHIfIWMNW"
      },
      "outputs": [],
      "source": [
        "data.shape"
      ],
      "id": "yAdpHIfIWMNW"
    },
    {
      "cell_type": "code",
      "execution_count": null,
      "metadata": {
        "id": "HAAPs0-3Z-be"
      },
      "outputs": [],
      "source": [
        "len(data[data['RatecodeID'] > 6 ])"
      ],
      "id": "HAAPs0-3Z-be"
    },
    {
      "cell_type": "code",
      "execution_count": null,
      "metadata": {
        "id": "zBYKdx1fetqO"
      },
      "outputs": [],
      "source": [
        "data = data[data['RatecodeID'] <=6]"
      ],
      "id": "zBYKdx1fetqO"
    },
    {
      "cell_type": "code",
      "execution_count": null,
      "metadata": {
        "id": "YKIBXr7EkX1R"
      },
      "outputs": [],
      "source": [
        "data.shape"
      ],
      "id": "YKIBXr7EkX1R"
    },
    {
      "cell_type": "code",
      "execution_count": null,
      "metadata": {
        "id": "4hFCXYzfCSN0"
      },
      "outputs": [],
      "source": [
        "#Encoding \n",
        "from sklearn.preprocessing import LabelEncoder\n",
        "le = LabelEncoder()"
      ],
      "id": "4hFCXYzfCSN0"
    },
    {
      "cell_type": "code",
      "execution_count": null,
      "metadata": {
        "id": "o7ZgHAE3CV8v"
      },
      "outputs": [],
      "source": [
        "data['store_and_fwd_flag'] = le.fit_transform(data['store_and_fwd_flag'])\n",
        "data.head()"
      ],
      "id": "o7ZgHAE3CV8v"
    },
    {
      "cell_type": "code",
      "execution_count": null,
      "metadata": {
        "id": "0EELlu3dCXuY"
      },
      "outputs": [],
      "source": [
        "data['store_and_fwd_flag'].value_counts()"
      ],
      "id": "0EELlu3dCXuY"
    },
    {
      "cell_type": "code",
      "execution_count": null,
      "metadata": {
        "id": "xMd5agGSz6HG"
      },
      "outputs": [],
      "source": [
        "data[data['trip_distance'].between(0,500)].plot.scatter('trip_distance', 'fare_amount')\n",
        "plt.show()"
      ],
      "id": "xMd5agGSz6HG"
    },
    {
      "cell_type": "code",
      "execution_count": null,
      "metadata": {
        "id": "2t0X-CMK2Oft"
      },
      "outputs": [],
      "source": [
        "data.tail()"
      ],
      "id": "2t0X-CMK2Oft"
    },
    {
      "cell_type": "code",
      "execution_count": null,
      "metadata": {
        "id": "N7uDzwO836RX"
      },
      "outputs": [],
      "source": [
        "\n",
        "def calculatePricePerMeter(dataSet) :\n",
        "  dF = pd.read_parquet(dataSet)\n",
        "  pricePerMeter_dF = (dF['total_amount'].values - dF['tip_amount'].values)/dF['trip_distance'].values\n",
        "  pricePerMeter_dF[pricePerMeter_dF == inf] = 0\n",
        "  pricePerMeter_dF[pricePerMeter_dF == -inf] = 0\n",
        "  np.nan_to_num(pricePerMeter_dF, copy=False)\n",
        "\n",
        "  \n",
        "  print(pricePerMeter_dF.sum())\n",
        "  print(np.count_nonzero(pricePerMeter_dF))\n",
        "  print(dataSet)\n",
        "  print(\"$\",pricePerMeter_dF.sum()/np.count_nonzero(pricePerMeter_dF))\n",
        "  \n",
        "  \n",
        "dataSetList = ['/content/drive/MyDrive/Colab Notebooks/yellow_tripdata_2018-01.parquet',\n",
        "               '/content/drive/MyDrive/Colab Notebooks/yellow_tripdata_2018-02.parquet',\n",
        "               '/content/drive/MyDrive/Colab Notebooks/yellow_tripdata_2018-03.parquet',\n",
        "               '/content/drive/MyDrive/Colab Notebooks/yellow_tripdata_2020-01.parquet',\n",
        "               '/content/drive/MyDrive/Colab Notebooks/yellow_tripdata_2020-02.parquet',\n",
        "               '/content/drive/MyDrive/Colab Notebooks/yellow_tripdata_2020-03.parquet',\n",
        "               '/content/drive/MyDrive/Colab Notebooks/yellow_tripdata_2022-01.parquet',\n",
        "               '/content/drive/MyDrive/Colab Notebooks/yellow_tripdata_2022-02.parquet',\n",
        "               '/content/drive/MyDrive/Colab Notebooks/yellow_tripdata_2022-03.parquet',\n",
        "               ]\n",
        "\n",
        "for i in dataSetList:\n",
        "    print(calculatePricePerMeter(i))"
      ],
      "id": "N7uDzwO836RX"
    },
    {
      "cell_type": "code",
      "execution_count": null,
      "metadata": {
        "id": "grC05L62KQ5t"
      },
      "outputs": [],
      "source": [
        "\n",
        "def calculatePricePerMeterforList(dataSet,rl) :\n",
        " \n",
        "  dF = pd.read_parquet(dataSet)\n",
        "  pricePerMeter_dF = (dF['total_amount'].values - dF['tip_amount'].values)/dF['trip_distance'].values\n",
        "  pricePerMeter_dF[pricePerMeter_dF == inf] = 0\n",
        "  pricePerMeter_dF[pricePerMeter_dF == -inf] = 0\n",
        "  np.nan_to_num(pricePerMeter_dF, copy=False)\n",
        "  result=pricePerMeter_dF.sum()/np.count_nonzero(pricePerMeter_dF)\n",
        "  rl.append(result)\n",
        "\n",
        "lis=[]\n",
        "for i in dataSetList:\n",
        "    print(calculatePricePerMeterforList(i,lis))"
      ],
      "id": "grC05L62KQ5t"
    }
  ],
  "metadata": {
    "accelerator": "GPU",
    "colab": {
      "collapsed_sections": [],
      "name": "termProject_1.ipynb",
      "provenance": [],
      "include_colab_link": true
    },
    "kernelspec": {
      "display_name": "Python 3 (ipykernel)",
      "language": "python",
      "name": "python3"
    },
    "language_info": {
      "codemirror_mode": {
        "name": "ipython",
        "version": 3
      },
      "file_extension": ".py",
      "mimetype": "text/x-python",
      "name": "python",
      "nbconvert_exporter": "python",
      "pygments_lexer": "ipython3",
      "version": "3.9.7"
    }
  },
  "nbformat": 4,
  "nbformat_minor": 5
}